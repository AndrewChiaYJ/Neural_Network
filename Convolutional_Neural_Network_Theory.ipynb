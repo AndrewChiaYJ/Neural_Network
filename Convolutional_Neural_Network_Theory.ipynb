{
 "cells": [
  {
   "cell_type": "markdown",
   "id": "8679ac16-4959-4106-ab02-4405c91b3c5a",
   "metadata": {},
   "source": [
    "# Convolutional Neural Network (CNN) - Theory\n",
    "\n",
    "## Contents:\n"
   ]
  },
  {
   "cell_type": "markdown",
   "id": "3f8821f5-2c49-423a-9222-6a72073e2230",
   "metadata": {},
   "source": [
    "## Introduction to CNN & Computer Vision"
   ]
  },
  {
   "cell_type": "markdown",
   "id": "aaee6774-41c6-4aac-9479-95fd0a93ff85",
   "metadata": {},
   "source": [
    "The inputs expected are images."
   ]
  },
  {
   "cell_type": "markdown",
   "id": "86c02063-33f5-40cd-8957-c61158656c78",
   "metadata": {},
   "source": [
    "## Computer Vision General Usage\n",
    "- Image Classification\n",
    "- Object Detection\n",
    "- Neural Style Transfer"
   ]
  },
  {
   "cell_type": "markdown",
   "id": "bcbc20b4-0666-443a-b452-a490ff15b68b",
   "metadata": {},
   "source": [
    "## Convolution Operation\n",
    "Convolution operation is use to detect edges.\n",
    "\n",
    "#### Vertical Edge Detection\n",
    "It occurs when you input an image (eg: 6 x 6 dimensions), and you do convolution filter of it by a 3 x 3 filter.\n",
    "\n",
    "<table style=\"border-collapse: collapse; text-align: center;\">\n",
    "  <tr>\n",
    "    <td style=\"border: 1px solid black;\">1</td>\n",
    "    <td style=\"border: 1px solid black;\">0</td>\n",
    "    <td style=\"border: 1px solid black;\">-1</td>\n",
    "  </tr>\n",
    "  <tr>\n",
    "    <td style=\"border: 1px solid black;\">1</td>\n",
    "    <td style=\"border: 1px solid black;\">0</td>\n",
    "    <td style=\"border: 1px solid black;\">-1</td>\n",
    "  </tr>\n",
    "  <tr>\n",
    "    <td style=\"border: 1px solid black;\">1</td>\n",
    "    <td style=\"border: 1px solid black;\">0</td>\n",
    "    <td style=\"border: 1px solid black;\">-1</td>\n",
    "  </tr>\n",
    "</table>\n",
    "\n",
    "<img src=\"CNN_Convolutional_Operation.png\" width=\"500\">\n",
    "\n",
    "Such convolution filter would allow the vertical edges to be found, and this can be use as a basic building blocks of CNN.\n",
    "\n",
    "#### Horizontal Edge Detection\n",
    "It occurs when you input an image (eg: 6 x 6 dimensions), and you do convolution filter of it by a 3 x 3 filter.\n",
    "\n",
    "<table style=\"border-collapse: collapse; text-align: center;\">\n",
    "  <tr>\n",
    "    <td style=\"border: 1px solid black;\">1</td>\n",
    "    <td style=\"border: 1px solid black;\">1</td>\n",
    "    <td style=\"border: 1px solid black;\">1</td>\n",
    "  </tr>\n",
    "  <tr>\n",
    "    <td style=\"border: 1px solid black;\">0</td>\n",
    "    <td style=\"border: 1px solid black;\">0</td>\n",
    "    <td style=\"border: 1px solid black;\">0</td>\n",
    "  </tr>\n",
    "  <tr>\n",
    "    <td style=\"border: 1px solid black;\">-1</td>\n",
    "    <td style=\"border: 1px solid black;\">-1</td>\n",
    "    <td style=\"border: 1px solid black;\">-1</td>\n",
    "  </tr>\n",
    "</table>\n",
    "\n",
    "#### Sobel Filter\n",
    "\n",
    "<table style=\"border-collapse: collapse; text-align: center;\">\n",
    "  <tr>\n",
    "    <td style=\"border: 1px solid black;\">1</td>\n",
    "    <td style=\"border: 1px solid black;\">0</td>\n",
    "    <td style=\"border: 1px solid black;\">-1</td>\n",
    "  </tr>\n",
    "  <tr>\n",
    "    <td style=\"border: 1px solid black;\">2</td>\n",
    "    <td style=\"border: 1px solid black;\">0</td>\n",
    "    <td style=\"border: 1px solid black;\">-2</td>\n",
    "  </tr>\n",
    "  <tr>\n",
    "    <td style=\"border: 1px solid black;\">1</td>\n",
    "    <td style=\"border: 1px solid black;\">0</td>\n",
    "    <td style=\"border: 1px solid black;\">-1</td>\n",
    "  </tr>\n",
    "</table>\n",
    "\n",
    "#### Scharr Filter\n",
    "\n",
    "<table style=\"border-collapse: collapse; text-align: center;\">\n",
    "  <tr>\n",
    "    <td style=\"border: 1px solid black;\">3</td>\n",
    "    <td style=\"border: 1px solid black;\">0</td>\n",
    "    <td style=\"border: 1px solid black;\">-3</td>\n",
    "  </tr>\n",
    "  <tr>\n",
    "    <td style=\"border: 1px solid black;\">10</td>\n",
    "    <td style=\"border: 1px solid black;\">0</td>\n",
    "    <td style=\"border: 1px solid black;\">-10</td>\n",
    "  </tr>\n",
    "  <tr>\n",
    "    <td style=\"border: 1px solid black;\">3</td>\n",
    "    <td style=\"border: 1px solid black;\">0</td>\n",
    "    <td style=\"border: 1px solid black;\">-3</td>\n",
    "  </tr>\n",
    "</table>\n",
    "\n",
    "#### Unknown Filter\n",
    "Try the 9 numbers in the 3 x 3 filter as parameters, to let the machine to learn and give a good edge detector\n"
   ]
  },
  {
   "cell_type": "code",
   "execution_count": null,
   "id": "719f3a48-6189-4c6a-be36-ad380eab0453",
   "metadata": {},
   "outputs": [],
   "source": []
  },
  {
   "cell_type": "code",
   "execution_count": null,
   "id": "891d604c-e02d-4e4b-855e-e4720c02b1a5",
   "metadata": {},
   "outputs": [],
   "source": []
  },
  {
   "cell_type": "code",
   "execution_count": null,
   "id": "5d7361cb-8760-4a0c-b0c9-8d7ef33313bf",
   "metadata": {},
   "outputs": [],
   "source": []
  },
  {
   "cell_type": "code",
   "execution_count": null,
   "id": "07af9c9c-76a0-46b6-944a-add354149e26",
   "metadata": {},
   "outputs": [],
   "source": []
  }
 ],
 "metadata": {
  "kernelspec": {
   "display_name": "Python 3 (ipykernel)",
   "language": "python",
   "name": "python3"
  },
  "language_info": {
   "codemirror_mode": {
    "name": "ipython",
    "version": 3
   },
   "file_extension": ".py",
   "mimetype": "text/x-python",
   "name": "python",
   "nbconvert_exporter": "python",
   "pygments_lexer": "ipython3",
   "version": "3.12.5"
  }
 },
 "nbformat": 4,
 "nbformat_minor": 5
}
