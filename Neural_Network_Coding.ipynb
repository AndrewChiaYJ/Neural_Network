{
 "cells": [
  {
   "cell_type": "markdown",
   "id": "e0a14846-57ea-426d-99a6-0da4d970fb70",
   "metadata": {},
   "source": [
    "# Neural Network Coding"
   ]
  },
  {
   "cell_type": "markdown",
   "id": "06ea0ffb-9795-469a-98f7-902ce2b166fa",
   "metadata": {},
   "source": [
    "# Building a simple Neural Network Model From Scratch (Without Using any Library)\n",
    "\n",
    "Source: [How to Create a Simple Neural Network in Python](https://www.kdnuggets.com/2018/10/simple-neural-network-python.html)"
   ]
  },
  {
   "cell_type": "markdown",
   "id": "77e6909d-7fcb-4108-8481-095a5fcd0ea4",
   "metadata": {},
   "source": [
    "## Problem\n",
    "\n",
    "<table>\n",
    "  <thead>\n",
    "    <tr>\n",
    "      <th rowspan=\"4\">Training Data</th>\n",
    "      <th colspan=\"3\">Input</th>\n",
    "      <th rowspan=\"2\">Output</th>\n",
    "    </tr>\n",
    "    <tr>\n",
    "      <th><i>x<sub>1</sub></i></th>\n",
    "      <th><i>x<sub>2</sub></i></th>\n",
    "      <th><i>x<sub>3</sub></i></th>\n",
    "    </tr>\n",
    "  </thead>\n",
    "  <tbody>\n",
    "    <tr>\n",
    "      <td>Training data 1</td>\n",
    "      <td>0</td>\n",
    "      <td>0</td>\n",
    "      <td>1</td>\n",
    "      <td>0</td>\n",
    "    </tr>\n",
    "    <tr>\n",
    "      <td>Training data 2</td>\n",
    "      <td>1</td>\n",
    "      <td>1</td>\n",
    "      <td>1</td>\n",
    "      <td>1</td>\n",
    "    </tr>\n",
    "    <tr>\n",
    "      <td>Training data 3</td>\n",
    "      <td>1</td>\n",
    "      <td>0</td>\n",
    "      <td>1</td>\n",
    "      <td>1</td>\n",
    "    </tr>\n",
    "    <tr>\n",
    "      <td>Training data 4</td>\n",
    "      <td>0</td>\n",
    "      <td>1</td>\n",
    "      <td>1</td>\n",
    "      <td>0</td>\n",
    "    </tr>\n",
    "    <tr>\n",
    "      <td><b>New Situation</b></td>\n",
    "      <td>1</td>\n",
    "      <td>0</td>\n",
    "      <td>0</td>\n",
    "      <td>?</td>\n",
    "    </tr>\n",
    "  </tbody>\n",
    "</table>"
   ]
  },
  {
   "cell_type": "code",
   "execution_count": 23,
   "id": "871b4b02-9f32-4059-a5b5-685e313b9bbe",
   "metadata": {},
   "outputs": [
    {
     "data": {
      "text/plain": [
       "array([[0.53316528],\n",
       "       [0.69187711],\n",
       "       [0.31551563]])"
      ]
     },
     "execution_count": 23,
     "metadata": {},
     "output_type": "execute_result"
    }
   ],
   "source": [
    "np.random.random((3,1))"
   ]
  },
  {
   "cell_type": "code",
   "execution_count": 25,
   "id": "8808cb4b-c990-4319-b769-c002d4acc39d",
   "metadata": {},
   "outputs": [
    {
     "name": "stdout",
     "output_type": "stream",
     "text": [
      "Beginning Randomly Generated Weights: \n",
      "[[-0.16595599]\n",
      " [ 0.44064899]\n",
      " [-0.99977125]]\n",
      "Ending Weights After Training: \n",
      "[[0.54818715]\n",
      " [2.5547951 ]\n",
      " [9.69456358]]\n"
     ]
    },
    {
     "name": "stdin",
     "output_type": "stream",
     "text": [
      "User Input One:  1\n",
      "User Input Two:  0\n",
      "User Input Three:  0\n"
     ]
    },
    {
     "name": "stdout",
     "output_type": "stream",
     "text": [
      "Considering New Situation:  1 0 0\n",
      "New Output data: \n",
      "[0.63371489]\n",
      "Wow, we did it!\n"
     ]
    }
   ],
   "source": [
    "# Create a neural network class\n",
    "\n",
    "# import numpy library\n",
    "import numpy as np\n",
    "\n",
    "class NeuralNetwork():\n",
    "\n",
    "    def __init__(self):\n",
    "        # seeding for random number generation\n",
    "        np.random.seed(1)\n",
    "\n",
    "        # converting weights to a 3 x 1 matrix with values from -1 to 1 and mean of 0\n",
    "        # np.random.random((3,1)) is to generate a 3 x 1 matrix, and randomly filled in any float numbers between 0 to 1\n",
    "        # multiple that by 2 is to expand the number range to 0 - 2, and -1 is to translate downwards by 1 so that the range is within -1 and 1\n",
    "        self.synaptic_weights = 2 * np.random.random((3,1))-1\n",
    "\n",
    "    def sigmoid(self, x):\n",
    "        # applying the sigmoid function\n",
    "        return 1 / (1 + np.exp(-x))\n",
    "\n",
    "    def sigmoid_derivative(self, x):\n",
    "        # computing derivative to the sigmoid function\n",
    "        return x * (1 - x)\n",
    "\n",
    "    def train (self, training_inputs, training_outputs, training_iterations):\n",
    "\n",
    "        # training the model to make accurate predictions while adjusting weights continually\n",
    "        for iteration in range(training_iterations):\n",
    "\n",
    "            # siphon the training data via the neuron\n",
    "            output = self.think(training_inputs)\n",
    "\n",
    "            # computing error rate for back propagation\n",
    "            error = (training_outputs - output)**2\n",
    "\n",
    "            # performing weight adjustment\n",
    "            adjustments = np.dot(training_inputs.T, error * self.sigmoid_derivative(output))\n",
    "\n",
    "            self.synaptic_weights += adjustments\n",
    "\n",
    "    def think (self, inputs):\n",
    "        # passing the inputs (converted into floats) via the neuron to get output\n",
    "        inputs = inputs.astype(float)\n",
    "        output = self.sigmoid(np.dot(inputs, self.synaptic_weights))\n",
    "        return output\n",
    "\n",
    "\n",
    "if __name__ == \"__main__\":\n",
    "\n",
    "    # initializing the neuron class\n",
    "    neural_network = NeuralNetwork()\n",
    "\n",
    "    print(\"Beginning Randomly Generated Weights: \")\n",
    "    print(neural_network.synaptic_weights)\n",
    "\n",
    "    # training data consisting of 4 examples -- 3 input values and 1 output\n",
    "    training_inputs = np.array([[0,0,1],\n",
    "                                [1,1,1],\n",
    "                                [1,0,1],\n",
    "                                [0,1,1]])\n",
    "    training_outputs = np.array([[0,1,1,0]]).T\n",
    "\n",
    "    # training taking place\n",
    "    neural_network.train(training_inputs, training_outputs, 15000)\n",
    "\n",
    "    print(\"Ending Weights After Training: \")\n",
    "    print(neural_network.synaptic_weights)\n",
    "\n",
    "    user_input_one = str(input(\"User Input One: \"))\n",
    "    user_input_two = str(input(\"User Input Two: \"))\n",
    "    user_input_three = str(input(\"User Input Three: \"))\n",
    "    \n",
    "    print(\"Considering New Situation: \", user_input_one, user_input_two, user_input_three)\n",
    "    print(\"New Output data: \")\n",
    "    print(neural_network.think(np.array([user_input_one, user_input_two, user_input_three])))\n",
    "    print(\"Wow, we did it!\")\n",
    "                                \n",
    "\n",
    "    "
   ]
  },
  {
   "cell_type": "code",
   "execution_count": null,
   "id": "1ba3c06e-f9dc-41d0-a864-ed0dbdde04cf",
   "metadata": {},
   "outputs": [],
   "source": []
  },
  {
   "cell_type": "markdown",
   "id": "264a3acd-3442-4c95-8fdb-5d57f0ab65e3",
   "metadata": {},
   "source": [
    "Source: [How to build a Neural Network from scratch](https://www.freecodecamp.org/news/building-a-neural-network-from-scratch/)"
   ]
  },
  {
   "cell_type": "code",
   "execution_count": 11,
   "id": "89954df8-6faa-42dd-8a18-bc96d83987d9",
   "metadata": {},
   "outputs": [],
   "source": [
    "import numpy as np\n",
    "import matplotlib.pyplot as plt"
   ]
  },
  {
   "cell_type": "markdown",
   "id": "93c37ba1-0b9b-48c9-8533-5415ad8d0532",
   "metadata": {},
   "source": [
    "1st step: To initialize the parameters (2 parameters for each of neurons in each layer: Weight and Bias)"
   ]
  },
  {
   "cell_type": "code",
   "execution_count": 26,
   "id": "64e08504-e10c-43fd-9b6b-e260b6459496",
   "metadata": {},
   "outputs": [],
   "source": [
    "# Define a function of layer_dimension to hold the dimensions of each layer\n",
    "def init_params(layer_dims):\n",
    "    # seeding for random number generation\n",
    "    np.random.seed(3)\n",
    "    \n",
    "    # declare a dictionary called params to store parameters\n",
    "    params = {}\n",
    "\n",
    "    # run a for loop for every layers available\n",
    "    for l in range(1, len(layer_dims)):\n",
    "        \n",
    "        # Store the Weights Parameters with keys as W1, W2, etc.. and the values as follows:\n",
    "        # np.random.randn(layer_dims[l], layer_dims[l-1]) is to generate an array with layer_dims[l] x layer_dims[l-1] dimension\n",
    "        # filled with random float numbers sampled from a \"standard normal\" distribution (mean 0, variance 1) - a rnage of 1 to -1\n",
    "        # multiply by 0.01 to restrict the range of values from -0.01 to 0.01\n",
    "        params['W'+str(l)] = np.random.randn(layer_dims[l], layer_dims[l-1])*0.01\n",
    "        \n",
    "        # Store the Bias Parameters with keys as b1, b2, etc.. and the values as follows:\n",
    "        # np.zeros((layer_dims[l], 1)) is to generate an array with layer_dims[l] x 1 dimension\n",
    "        # filled with 0\n",
    "        params['b'+str(l)] = np.zeros((layer_dims[l], 1))\n",
    "\n",
    "    # return the params dictionary after storing all the paramters of every layer dimension\n",
    "    return params"
   ]
  },
  {
   "cell_type": "code",
   "execution_count": null,
   "id": "09b57269-7587-4c8a-a4c6-663c88fd7d91",
   "metadata": {},
   "outputs": [],
   "source": []
  }
 ],
 "metadata": {
  "kernelspec": {
   "display_name": "Python 3 (ipykernel)",
   "language": "python",
   "name": "python3"
  },
  "language_info": {
   "codemirror_mode": {
    "name": "ipython",
    "version": 3
   },
   "file_extension": ".py",
   "mimetype": "text/x-python",
   "name": "python",
   "nbconvert_exporter": "python",
   "pygments_lexer": "ipython3",
   "version": "3.12.5"
  }
 },
 "nbformat": 4,
 "nbformat_minor": 5
}
