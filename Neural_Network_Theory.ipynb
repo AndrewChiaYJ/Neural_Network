{
 "cells": [
  {
   "cell_type": "markdown",
   "id": "33cb9dd1-5fd6-4abb-8dda-e6265b6ceb58",
   "metadata": {},
   "source": [
    "# Neural Network - Theory"
   ]
  },
  {
   "cell_type": "code",
   "execution_count": null,
   "id": "473dd839-14c1-4dcf-883d-c8a39939a14d",
   "metadata": {},
   "outputs": [],
   "source": []
  }
 ],
 "metadata": {
  "kernelspec": {
   "display_name": "Python 3 (ipykernel)",
   "language": "python",
   "name": "python3"
  },
  "language_info": {
   "codemirror_mode": {
    "name": "ipython",
    "version": 3
   },
   "file_extension": ".py",
   "mimetype": "text/x-python",
   "name": "python",
   "nbconvert_exporter": "python",
   "pygments_lexer": "ipython3",
   "version": "3.12.5"
  }
 },
 "nbformat": 4,
 "nbformat_minor": 5
}
